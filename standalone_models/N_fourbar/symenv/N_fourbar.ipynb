{
 "cells": [
  {
   "cell_type": "markdown",
   "metadata": {},
   "source": [
    "# STANDALONE STUDY\n",
    "## **DOUBLE FOURBAR MECHANISM**\n",
    "-----------------"
   ]
  },
  {
   "cell_type": "markdown",
   "metadata": {},
   "source": [
    "## Environment Setup\n",
    "--------------------"
   ]
  },
  {
   "cell_type": "markdown",
   "metadata": {},
   "source": [
    "### Colab Session\n",
    "*Run if in a Colab Session Only!*"
   ]
  },
  {
   "cell_type": "markdown",
   "metadata": {},
   "source": [
    "#### Setting-up Colab Virtual Machine\n",
    "This will install the needed modules into the Virtual Machine dedicated for the running notebook session."
   ]
  },
  {
   "cell_type": "code",
   "execution_count": null,
   "metadata": {},
   "outputs": [],
   "source": [
    "!pip install uraeus.smbd"
   ]
  },
  {
   "cell_type": "markdown",
   "metadata": {},
   "source": [
    "Creating a new directory, `/uraeus_smbd`, where we can store the model files and results."
   ]
  },
  {
   "cell_type": "code",
   "execution_count": null,
   "metadata": {},
   "outputs": [],
   "source": [
    "import os\n",
    "\n",
    "os.mkdir('uraeus_smbd')\n",
    "os.chdir('uraeus_smbd')"
   ]
  },
  {
   "cell_type": "markdown",
   "metadata": {},
   "source": [
    "#### Rendering SymPy in Colab\n",
    "Rendering SymPy equations in Colab requires the MathJax javascript library to be available within each cell output. The following defines an execution hook that loads it automatically each time you execute a cell."
   ]
  },
  {
   "cell_type": "code",
   "execution_count": null,
   "metadata": {},
   "outputs": [],
   "source": [
    "from IPython.display import Math, HTML\n",
    "\n",
    "def load_mathjax_in_cell_output():\n",
    "  display(HTML(\"<script src='https://www.gstatic.com/external_hosted/\"\n",
    "               \"mathjax/latest/MathJax.js?config=default'></script>\"))\n",
    "get_ipython().events.register('pre_run_cell', load_mathjax_in_cell_output)"
   ]
  },
  {
   "cell_type": "markdown",
   "metadata": {},
   "source": [
    "---------------------------------------------------------------"
   ]
  },
  {
   "cell_type": "markdown",
   "metadata": {},
   "source": [
    "### Local Session\n",
    "*Run if on your Local Machine!*</br>"
   ]
  },
  {
   "cell_type": "markdown",
   "metadata": {},
   "source": [
    "Creating Project Directories"
   ]
  },
  {
   "cell_type": "code",
   "execution_count": 1,
   "metadata": {},
   "outputs": [],
   "source": [
    "from uraeus.smbd.systems import standalone_project"
   ]
  },
  {
   "cell_type": "code",
   "execution_count": 2,
   "metadata": {},
   "outputs": [],
   "source": [
    "project = standalone_project()\n",
    "project.create()"
   ]
  },
  {
   "cell_type": "markdown",
   "metadata": {},
   "source": [
    "---------------------------------------------------------------\n",
    "---------------------------------------------------------------"
   ]
  },
  {
   "cell_type": "markdown",
   "metadata": {},
   "source": [
    "## **SYSTEM DESCRIPTION**\n",
    "-------------------------"
   ]
  },
  {
   "cell_type": "code",
   "execution_count": 3,
   "metadata": {},
   "outputs": [
    {
     "data": {
      "text/markdown": [
       "# DOUBLE FOURBAR\n",
       "\n",
       "**STANDALONE TOPOLOGY**\n",
       "\n",
       "------------------------------------------------\n",
       "\n",
       "### **Summary**\n",
       "\n",
       "The figure shows a double four-bar mechanism, which is simply an extended version of a simple four-bar. The model is used in benchmarks studies to study the singular configurations of mechanisms. When the  mechanism reaches the horizontal position, the number of degrees of freedom instantaneously increases  from 1 to 3. Therefore, this benchmark problem is proposed as an example of multibody system going through singular positions.\n",
       "\n",
       "![double_fourbar](double_fourbar.png)\n",
       "\n",
       "--------------------------------------\n",
       "\n",
       "### **Topology Layout**\n",
       "The mechanism consists of 5 Bodies + 1 Ground. Therefore, total system coordinates -including the ground- is $$n=n_b\\times7 = 6\\times7 = 42$$  where $n_b$ is the total number of bodies. [^1]\n",
       "\n",
       "The list of bodies is given below:\n",
       "\n",
       "- Crank ($l_1$).\n",
       "- Crank ($l_3$).\n",
       "- Crank ($l_5$).\n",
       "- Coupler ($l_2$).\n",
       "- Coupler ($l_4$).\n",
       "\n",
       "The system connectivity is as follows:\n",
       "- Cranks $l_1$, $l_3$ and $l_5$ are connected to the ground by revolute joints, resulting in constraint equations $3 \\times n_{c,rev} = 3 \\times 5 = 15$\n",
       "- Each coupler is connected to the adjacent cranks by two spherical joints at each end, resulting in constraint equations $4 \\times n_{c,sph} = 4 \\times 3 = 12$\n",
       "- System Degrees of Freedom is then given by $42 - ((1\\times6) + 15 + 12 + 6) = 42 - 39 = 3$, where the extra 2 DOF arise from the unconstrained spin of each coupler due to the use of spherical joints at each end.\n",
       "\n",
       "------------------------------------------------------\n",
       "<br/>\n",
       "\n",
       "[^1]: The tool uses [euler-parameters](https://en.wikibooks.org/wiki/Multibody_Mechanics/Euler_Parameters) -which is a 4D unit quaternion- to represents bodies orientation in space. This makes the generalized coordinates used to fully define a body in space to be **7,** instead of **6**, it also adds an algebraic equation to the constraints that ensures the unity/normalization of the body quaternion. This is an important remark as the calculations of the degrees-of-freedom depends on it.\n"
      ],
      "text/plain": [
       "<IPython.core.display.Markdown object>"
      ]
     },
     "metadata": {},
     "output_type": "display_data"
    }
   ],
   "source": [
    "from IPython.display import display, Markdown\n",
    "display(Markdown(filename='double_fourbar.md'))"
   ]
  },
  {
   "cell_type": "markdown",
   "metadata": {},
   "source": [
    "---------------------------------------------------------------\n",
    "---------------------------------------------------------------"
   ]
  },
  {
   "cell_type": "markdown",
   "metadata": {},
   "source": [
    "## **SYMBOLIC TOPOLOGY**\n",
    "------------------------"
   ]
  },
  {
   "cell_type": "markdown",
   "metadata": {},
   "source": [
    "In this section, we create the symbolic topology that captures the topological layout that we just discussed.</br>\n",
    "Defining the topology is very simple. We start by creating an instance of the ```standalone_topology``` class that represents our symbolic model. Then we start adding the components we discussed earlier, starting by the bodies, then the joints, actuators and forces, and thats it.</br>\n",
    "These components will be represented symbolically, and therefore there is no need for any numerical inputs at this step.\n",
    "\n",
    "The system is stored in a form of a network graph that stores all the data needed for the assemblage of the system equations later. But even before the assemblage process, we can gain helpful insights about our system as well be shown.\n"
   ]
  },
  {
   "cell_type": "code",
   "execution_count": 4,
   "metadata": {},
   "outputs": [],
   "source": [
    "from uraeus.smbd.systems import standalone_topology, configuration"
   ]
  },
  {
   "cell_type": "code",
   "execution_count": 5,
   "metadata": {},
   "outputs": [],
   "source": [
    "project_name = 'double_fourbar'"
   ]
  },
  {
   "cell_type": "code",
   "execution_count": 6,
   "metadata": {},
   "outputs": [],
   "source": [
    "sym_model = standalone_topology(project_name)"
   ]
  },
  {
   "cell_type": "markdown",
   "metadata": {},
   "source": [
    "### Adding Bodies"
   ]
  },
  {
   "cell_type": "code",
   "execution_count": 7,
   "metadata": {},
   "outputs": [],
   "source": [
    "# Adding Bodies\n",
    "sym_model.add_body('l1')\n",
    "sym_model.add_body('l2')\n",
    "sym_model.add_body('l3')\n",
    "\n",
    "sym_model.add_body('l4')\n",
    "sym_model.add_body('l5')"
   ]
  },
  {
   "cell_type": "markdown",
   "metadata": {},
   "source": [
    "### Adding Joints"
   ]
  },
  {
   "cell_type": "code",
   "execution_count": 8,
   "metadata": {},
   "outputs": [],
   "source": [
    "# Adding Joints\n",
    "sym_model.add_joint.revolute('a', 'ground', 'rbs_l1')\n",
    "sym_model.add_joint.spherical('b', 'rbs_l1', 'rbs_l2')\n",
    "sym_model.add_joint.spherical('c', 'rbs_l2', 'rbs_l3')\n",
    "sym_model.add_joint.revolute('d', 'rbs_l3', 'ground')\n",
    "\n",
    "sym_model.add_joint.spherical('e', 'rbs_l3', 'rbs_l4')\n",
    "sym_model.add_joint.spherical('f', 'rbs_l4', 'rbs_l5')\n",
    "sym_model.add_joint.revolute('g', 'rbs_l5', 'ground')"
   ]
  },
  {
   "cell_type": "markdown",
   "metadata": {},
   "source": [
    "### Adding Actuators"
   ]
  },
  {
   "cell_type": "code",
   "execution_count": 8,
   "metadata": {},
   "outputs": [],
   "source": [
    "# No actuators needed for the study"
   ]
  },
  {
   "cell_type": "markdown",
   "metadata": {},
   "source": [
    "### Adding Forces"
   ]
  },
  {
   "cell_type": "code",
   "execution_count": 9,
   "metadata": {},
   "outputs": [],
   "source": [
    "sym_model.add_force.torque('torque', 'rbs_l1')"
   ]
  },
  {
   "cell_type": "markdown",
   "metadata": {
    "colab_type": "text",
    "id": "goKtOBuLd1Kh"
   },
   "source": [
    "### **SYMBOLIC CHARACTERISTICS**"
   ]
  },
  {
   "cell_type": "markdown",
   "metadata": {},
   "source": [
    "#### Topology Graph\n",
    "Visualizing the connectivity of the system as a network graph, where the nodes represent the bodies, and the edges represent the joints, forces and/or actuators between the bodies."
   ]
  },
  {
   "cell_type": "code",
   "execution_count": 10,
   "metadata": {},
   "outputs": [
    {
     "data": {
      "image/png": "[encoded data removed]",
      "text/plain": [
       "<Figure size 720x432 with 1 Axes>"
      ]
     },
     "metadata": {},
     "output_type": "display_data"
    }
   ],
   "source": [
    "sym_model.topology.draw_constraints_topology()"
   ]
  },
  {
   "cell_type": "markdown",
   "metadata": {},
   "source": [
    "Checking the system's number of generalized coordinates $n$ and number of constraints $n_c$."
   ]
  },
  {
   "cell_type": "code",
   "execution_count": 11,
   "metadata": {},
   "outputs": [
    {
     "data": {
      "text/latex": [
       "$\\displaystyle \\left( 42, \\  39\\right)$"
      ],
      "text/plain": [
       "(42, 39)"
      ]
     },
     "execution_count": 11,
     "metadata": {},
     "output_type": "execute_result"
    }
   ],
   "source": [
    "sym_model.topology.n, sym_model.topology.nc"
   ]
  },
  {
   "cell_type": "markdown",
   "metadata": {},
   "source": [
    "### **ASSEMBLING**"
   ]
  },
  {
   "cell_type": "markdown",
   "metadata": {},
   "source": [
    "This is the last step of the symbolic model building process, where the system starts the assemblage process of the governing equations, which will be used then in the code generation for the numerical simulation, and also can be used for further symbolic manipulations.</br>\n",
    "\n",
    "*Note: The equations' notations will be discussed in a separate documentation file.*"
   ]
  },
  {
   "cell_type": "code",
   "execution_count": 12,
   "metadata": {},
   "outputs": [],
   "source": [
    "sym_model.assemble()"
   ]
  },
  {
   "cell_type": "code",
   "execution_count": 13,
   "metadata": {},
   "outputs": [],
   "source": [
    "sym_model.save('symenv')"
   ]
  },
  {
   "cell_type": "markdown",
   "metadata": {},
   "source": [
    "#### Checking the System Equations"
   ]
  },
  {
   "cell_type": "code",
   "execution_count": 14,
   "metadata": {},
   "outputs": [
    {
     "data": {
      "text/latex": [
       "$\\displaystyle \\left[\\begin{matrix}{A({P_{ground}})} {\\bar{u}^{ground}_{jcs_a}} - {A({P_{rbs_l1}})} {\\bar{u}^{rbs_l1}_{jcs_a}} + {R_{ground}} - {R_{rbs_l1}}\\\\\\left({\\hat{i}_{{\\bar{M}^{ground}_{jcs_a}}}}\\right)^{T} \\left({A({P_{ground}})}\\right)^{T} {A({P_{rbs_l1}})} {\\hat{k}_{{\\bar{M}^{rbs_l1}_{jcs_a}}}}\\\\\\left({\\hat{j}_{{\\bar{M}^{ground}_{jcs_a}}}}\\right)^{T} \\left({A({P_{ground}})}\\right)^{T} {A({P_{rbs_l1}})} {\\hat{k}_{{\\bar{M}^{rbs_l1}_{jcs_a}}}}\\\\{A({P_{rbs_l1}})} {\\bar{u}^{rbs_l1}_{jcs_b}} - {A({P_{rbs_l2}})} {\\bar{u}^{rbs_l2}_{jcs_b}} + {R_{rbs_l1}} - {R_{rbs_l2}}\\\\{A({P_{rbs_l2}})} {\\bar{u}^{rbs_l2}_{jcs_c}} - {A({P_{rbs_l3}})} {\\bar{u}^{rbs_l3}_{jcs_c}} + {R_{rbs_l2}} - {R_{rbs_l3}}\\\\- {A({P_{ground}})} {\\bar{u}^{ground}_{jcs_d}} + {A({P_{rbs_l3}})} {\\bar{u}^{rbs_l3}_{jcs_d}} - {R_{ground}} + {R_{rbs_l3}}\\\\\\left({\\hat{i}_{{\\bar{M}^{rbs_l3}_{jcs_d}}}}\\right)^{T} \\left({A({P_{rbs_l3}})}\\right)^{T} {A({P_{ground}})} {\\hat{k}_{{\\bar{M}^{ground}_{jcs_d}}}}\\\\\\left({\\hat{j}_{{\\bar{M}^{rbs_l3}_{jcs_d}}}}\\right)^{T} \\left({A({P_{rbs_l3}})}\\right)^{T} {A({P_{ground}})} {\\hat{k}_{{\\bar{M}^{ground}_{jcs_d}}}}\\\\{A({P_{rbs_l3}})} {\\bar{u}^{rbs_l3}_{jcs_e}} - {A({P_{rbs_l4}})} {\\bar{u}^{rbs_l4}_{jcs_e}} + {R_{rbs_l3}} - {R_{rbs_l4}}\\\\{A({P_{rbs_l4}})} {\\bar{u}^{rbs_l4}_{jcs_f}} - {A({P_{rbs_l5}})} {\\bar{u}^{rbs_l5}_{jcs_f}} + {R_{rbs_l4}} - {R_{rbs_l5}}\\\\- {A({P_{ground}})} {\\bar{u}^{ground}_{jcs_g}} + {A({P_{rbs_l5}})} {\\bar{u}^{rbs_l5}_{jcs_g}} - {R_{ground}} + {R_{rbs_l5}}\\\\\\left({\\hat{i}_{{\\bar{M}^{rbs_l5}_{jcs_g}}}}\\right)^{T} \\left({A({P_{rbs_l5}})}\\right)^{T} {A({P_{ground}})} {\\hat{k}_{{\\bar{M}^{ground}_{jcs_g}}}}\\\\\\left({\\hat{j}_{{\\bar{M}^{rbs_l5}_{jcs_g}}}}\\right)^{T} \\left({A({P_{rbs_l5}})}\\right)^{T} {A({P_{ground}})} {\\hat{k}_{{\\bar{M}^{ground}_{jcs_g}}}}\\\\{R_{ground}}\\\\{P_{ground}} - {Pg_{ground}}\\\\- \\mathbb{I} + {P_{rbs_l1}}^{T} {P_{rbs_l1}}\\\\- \\mathbb{I} + {P_{rbs_l2}}^{T} {P_{rbs_l2}}\\\\- \\mathbb{I} + {P_{rbs_l3}}^{T} {P_{rbs_l3}}\\\\- \\mathbb{I} + {P_{rbs_l4}}^{T} {P_{rbs_l4}}\\\\- \\mathbb{I} + {P_{rbs_l5}}^{T} {P_{rbs_l5}}\\end{matrix}\\right]$"
      ],
      "text/plain": [
       "Matrix([\n",
       "[ A({P_{ground}})*{\\bar{u}^{ground}_{jcs_a}} - A({P_{rbs_l1}})*{\\bar{u}^{rbs_l1}_{jcs_a}} + {R_{ground}} - {R_{rbs_l1}}],\n",
       "[                           Mbar_ground_jcs_a[:,(0, 1)].T*A({P_{ground}}).T*A({P_{rbs_l1}})*Mbar_rbs_l1_jcs_a[:,(2, 3)]],\n",
       "[                           Mbar_ground_jcs_a[:,(1, 2)].T*A({P_{ground}}).T*A({P_{rbs_l1}})*Mbar_rbs_l1_jcs_a[:,(2, 3)]],\n",
       "[ A({P_{rbs_l1}})*{\\bar{u}^{rbs_l1}_{jcs_b}} - A({P_{rbs_l2}})*{\\bar{u}^{rbs_l2}_{jcs_b}} + {R_{rbs_l1}} - {R_{rbs_l2}}],\n",
       "[ A({P_{rbs_l2}})*{\\bar{u}^{rbs_l2}_{jcs_c}} - A({P_{rbs_l3}})*{\\bar{u}^{rbs_l3}_{jcs_c}} + {R_{rbs_l2}} - {R_{rbs_l3}}],\n",
       "[-A({P_{ground}})*{\\bar{u}^{ground}_{jcs_d}} + A({P_{rbs_l3}})*{\\bar{u}^{rbs_l3}_{jcs_d}} - {R_{ground}} + {R_{rbs_l3}}],\n",
       "[                           Mbar_rbs_l3_jcs_d[:,(0, 1)].T*A({P_{rbs_l3}}).T*A({P_{ground}})*Mbar_ground_jcs_d[:,(2, 3)]],\n",
       "[                           Mbar_rbs_l3_jcs_d[:,(1, 2)].T*A({P_{rbs_l3}}).T*A({P_{ground}})*Mbar_ground_jcs_d[:,(2, 3)]],\n",
       "[ A({P_{rbs_l3}})*{\\bar{u}^{rbs_l3}_{jcs_e}} - A({P_{rbs_l4}})*{\\bar{u}^{rbs_l4}_{jcs_e}} + {R_{rbs_l3}} - {R_{rbs_l4}}],\n",
       "[ A({P_{rbs_l4}})*{\\bar{u}^{rbs_l4}_{jcs_f}} - A({P_{rbs_l5}})*{\\bar{u}^{rbs_l5}_{jcs_f}} + {R_{rbs_l4}} - {R_{rbs_l5}}],\n",
       "[-A({P_{ground}})*{\\bar{u}^{ground}_{jcs_g}} + A({P_{rbs_l5}})*{\\bar{u}^{rbs_l5}_{jcs_g}} - {R_{ground}} + {R_{rbs_l5}}],\n",
       "[                           Mbar_rbs_l5_jcs_g[:,(0, 1)].T*A({P_{rbs_l5}}).T*A({P_{ground}})*Mbar_ground_jcs_g[:,(2, 3)]],\n",
       "[                           Mbar_rbs_l5_jcs_g[:,(1, 2)].T*A({P_{rbs_l5}}).T*A({P_{ground}})*Mbar_ground_jcs_g[:,(2, 3)]],\n",
       "[                                                                                                          {R_{ground}}],\n",
       "[                                                                                          {P_{ground}} - {Pg_{ground}}],\n",
       "[                                                                                      -I + {P_{rbs_l1}}.T*{P_{rbs_l1}}],\n",
       "[                                                                                      -I + {P_{rbs_l2}}.T*{P_{rbs_l2}}],\n",
       "[                                                                                      -I + {P_{rbs_l3}}.T*{P_{rbs_l3}}],\n",
       "[                                                                                      -I + {P_{rbs_l4}}.T*{P_{rbs_l4}}],\n",
       "[                                                                                      -I + {P_{rbs_l5}}.T*{P_{rbs_l5}}]])"
      ]
     },
     "execution_count": 14,
     "metadata": {},
     "output_type": "execute_result"
    }
   ],
   "source": [
    "sym_model.topology.pos_equations"
   ]
  },
  {
   "cell_type": "markdown",
   "metadata": {},
   "source": [
    "---------------------------------------------------------------\n",
    "---------------------------------------------------------------"
   ]
  },
  {
   "cell_type": "markdown",
   "metadata": {},
   "source": [
    "## **SYSTEM CONFIGURATION**\n",
    "---------------------------"
   ]
  },
  {
   "cell_type": "markdown",
   "metadata": {},
   "source": [
    "In this step we define a symbolic configuration of our symbolic topology. As you may have noticed in the symbolic topology building step, we only cared about the **_topology_**, thats is the system bodies and their connectivity, and we did not care explicitly with how these components are configured in space.</br>\n",
    "\n",
    "In order to create a valid numerical simulation session, we have to provide the system with its numerical configuration needed, for example, the joints' locations and orientations. The symbolic topology in its raw form will require you to manually enter all these numerical arguments, which can be cumbersome even for smaller systems. This can be checked by checking the configuration inputs of the symbolic configuration as ```sym_config.config.input_nodes```\n",
    "\n",
    "Here we start by stating the symbolic inputs we wish to use instead of the default inputs set, and then we define the relation between these newly defined arguments and the original ones. \n",
    "\n",
    "**_The details of this process will be provided in the documentation._**"
   ]
  },
  {
   "cell_type": "code",
   "execution_count": 15,
   "metadata": {},
   "outputs": [],
   "source": [
    "# Symbolic configuration name.\n",
    "config_name = '%s_cfg'%project_name\n",
    "\n",
    "# Symbolic configuration instance.\n",
    "sym_config = configuration(config_name, sym_model)"
   ]
  },
  {
   "cell_type": "markdown",
   "metadata": {},
   "source": [
    "### CONFIGURATION INPUTS"
   ]
  },
  {
   "cell_type": "code",
   "execution_count": 16,
   "metadata": {},
   "outputs": [],
   "source": [
    "# Adding the desired set of UserInputs\n",
    "# ====================================\n",
    "\n",
    "sym_config.add_point.UserInput('a')\n",
    "sym_config.add_point.UserInput('b')\n",
    "sym_config.add_point.UserInput('c')\n",
    "sym_config.add_point.UserInput('d')\n",
    "\n",
    "sym_config.add_point.UserInput('e')\n",
    "sym_config.add_point.UserInput('f')\n",
    "sym_config.add_point.UserInput('g')\n",
    "\n",
    "sym_config.add_vector.UserInput('x')\n",
    "sym_config.add_vector.UserInput('y')\n",
    "sym_config.add_vector.UserInput('z')"
   ]
  },
  {
   "cell_type": "markdown",
   "metadata": {},
   "source": [
    "### CONFIGURATION RELATIONS"
   ]
  },
  {
   "cell_type": "code",
   "execution_count": 17,
   "metadata": {},
   "outputs": [],
   "source": [
    "# Defining Relations between original topology inputs\n",
    "# and our desired UserInputs.\n",
    "# ===================================================\n",
    "\n",
    "# Joints Locations:\n",
    "# ================\n",
    "sym_config.add_relation.Equal_to('pt1_jcs_a', ('hps_a',))\n",
    "sym_config.add_relation.Equal_to('pt1_jcs_b', ('hps_b',))\n",
    "sym_config.add_relation.Equal_to('pt1_jcs_c', ('hps_c',))\n",
    "sym_config.add_relation.Equal_to('pt1_jcs_d', ('hps_d',))\n",
    "\n",
    "sym_config.add_relation.Equal_to('pt1_jcs_e', ('hps_e',))\n",
    "sym_config.add_relation.Equal_to('pt1_jcs_f', ('hps_f',))\n",
    "sym_config.add_relation.Equal_to('pt1_jcs_g', ('hps_g',))\n",
    "\n",
    "# Joints Axes' Orientation:\n",
    "# ========================\n",
    "\n",
    "# Revolute Joints.\n",
    "sym_config.add_relation.Equal_to('ax1_jcs_a', ('vcs_x',))\n",
    "sym_config.add_relation.Equal_to('ax1_jcs_d', ('vcs_x',))\n",
    "sym_config.add_relation.Equal_to('ax1_jcs_g', ('vcs_x',))\n",
    "\n",
    "# Spherical Joints.\n",
    "sym_config.add_relation.Equal_to('ax1_jcs_b', ('vcs_z',))\n",
    "sym_config.add_relation.Equal_to('ax1_jcs_c', ('vcs_z',))\n",
    "sym_config.add_relation.Equal_to('ax1_jcs_e', ('vcs_z',))\n",
    "sym_config.add_relation.Equal_to('ax1_jcs_f', ('vcs_z',))\n",
    "\n",
    "# Forces Axes' Orientation:\n",
    "# ========================\n",
    "# Input Torque Axis\n",
    "sym_config.add_relation.Equal_to('ax1_fas_torque', ('vcs_x',))"
   ]
  },
  {
   "cell_type": "markdown",
   "metadata": {},
   "source": [
    "### GEOMETRIES"
   ]
  },
  {
   "cell_type": "markdown",
   "metadata": {},
   "source": [
    "Here we start defining basic geometric shapes that can represents the shapes of the bodies in our system. This serves two points:\n",
    "- Visualization and Animation in blender.\n",
    "- Evaluating the bodies inertia properties from these basic geometries instead of explicit definition."
   ]
  },
  {
   "cell_type": "code",
   "execution_count": 18,
   "metadata": {},
   "outputs": [],
   "source": [
    "# Creating Geometries\n",
    "# ===================\n",
    "sym_config.add_scalar.UserInput('links_ro')\n",
    "\n",
    "sym_config.add_geometry.Cylinder_Geometry('l1', ('hps_a','hps_b','s_links_ro'))\n",
    "sym_config.assign_geometry_to_body('rbs_l1', 'gms_l1')\n",
    "\n",
    "sym_config.add_geometry.Cylinder_Geometry('l2', ('hps_b','hps_c','s_links_ro'))\n",
    "sym_config.assign_geometry_to_body('rbs_l2', 'gms_l2')\n",
    "\n",
    "sym_config.add_geometry.Cylinder_Geometry('l3', ('hps_c','hps_d','s_links_ro'))\n",
    "sym_config.assign_geometry_to_body('rbs_l3', 'gms_l3')\n",
    "\n",
    "\n",
    "sym_config.add_geometry.Cylinder_Geometry('l4', ('hps_e','hps_f','s_links_ro'))\n",
    "sym_config.assign_geometry_to_body('rbs_l4', 'gms_l4')\n",
    "\n",
    "sym_config.add_geometry.Cylinder_Geometry('l5', ('hps_f','hps_g','s_links_ro'))\n",
    "sym_config.assign_geometry_to_body('rbs_l5', 'gms_l5')"
   ]
  },
  {
   "cell_type": "markdown",
   "metadata": {},
   "source": [
    "Exporting configuration into a JSON file"
   ]
  },
  {
   "cell_type": "code",
   "execution_count": 19,
   "metadata": {},
   "outputs": [],
   "source": [
    "sym_config.export_JSON_file('symenv')"
   ]
  },
  {
   "cell_type": "markdown",
   "metadata": {},
   "source": [
    "---------------------------------------------------------------\n",
    "---------------------------------------------------------------"
   ]
  },
  {
   "cell_type": "code",
   "execution_count": null,
   "metadata": {},
   "outputs": [],
   "source": []
  }
 ],
 "metadata": {
  "kernelspec": {
   "display_name": "uraeus",
   "language": "python",
   "name": "uraeus"
  },
  "language_info": {
   "codemirror_mode": {
    "name": "ipython",
    "version": 3
   },
   "file_extension": ".py",
   "mimetype": "text/x-python",
   "name": "python",
   "nbconvert_exporter": "python",
   "pygments_lexer": "ipython3",
   "version": "3.7.3"
  }
 },
 "nbformat": 4,
 "nbformat_minor": 4
}
