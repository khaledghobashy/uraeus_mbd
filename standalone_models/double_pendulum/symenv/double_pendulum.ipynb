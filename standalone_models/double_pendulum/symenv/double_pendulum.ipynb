{
 "cells": [
  {
   "cell_type": "markdown",
   "metadata": {},
   "source": [
    "# STANDALONE STUDY\n",
    "## **DOUBLE PENDULUM**\n",
    "-----------------"
   ]
  },
  {
   "cell_type": "markdown",
   "metadata": {},
   "source": [
    "## Environment Setup\n",
    "--------------------"
   ]
  },
  {
   "cell_type": "markdown",
   "metadata": {},
   "source": [
    "### Colab Session\n",
    "*Run if in a Colab Session Only!*"
   ]
  },
  {
   "cell_type": "markdown",
   "metadata": {},
   "source": [
    "#### Setting-up Colab Virtual Machine\n",
    "This will install the needed modules into the Virtual Machine dedicated for the running notebook session."
   ]
  },
  {
   "cell_type": "code",
   "execution_count": null,
   "metadata": {},
   "outputs": [],
   "source": [
    "!pip install uraeus.smbd"
   ]
  },
  {
   "cell_type": "markdown",
   "metadata": {},
   "source": [
    "Creating a new directory, `/uraeus_smbd`, where we can store the model files and results."
   ]
  },
  {
   "cell_type": "code",
   "execution_count": null,
   "metadata": {},
   "outputs": [],
   "source": [
    "import os\n",
    "\n",
    "os.mkdir('uraeus_smbd')\n",
    "os.chdir('uraeus_smbd')"
   ]
  },
  {
   "cell_type": "markdown",
   "metadata": {},
   "source": [
    "#### Rendering SymPy in Colab\n",
    "Rendering SymPy equations in Colab requires the MathJax javascript library to be available within each cell output. The following defines an execution hook that loads it automatically each time you execute a cell."
   ]
  },
  {
   "cell_type": "code",
   "execution_count": null,
   "metadata": {},
   "outputs": [],
   "source": [
    "from IPython.display import Math, HTML\n",
    "\n",
    "def load_mathjax_in_cell_output():\n",
    "  display(HTML(\"<script src='https://www.gstatic.com/external_hosted/\"\n",
    "               \"mathjax/latest/MathJax.js?config=default'></script>\"))\n",
    "get_ipython().events.register('pre_run_cell', load_mathjax_in_cell_output)"
   ]
  },
  {
   "cell_type": "markdown",
   "metadata": {},
   "source": [
    "---------------------------------------------------------------"
   ]
  },
  {
   "cell_type": "markdown",
   "metadata": {},
   "source": [
    "### Local Session\n",
    "*Run if on your Local Machine!*</br>"
   ]
  },
  {
   "cell_type": "markdown",
   "metadata": {},
   "source": [
    "Creating Project Directories"
   ]
  },
  {
   "cell_type": "code",
   "execution_count": 1,
   "metadata": {},
   "outputs": [],
   "source": [
    "from uraeus.smbd.systems import standalone_project"
   ]
  },
  {
   "cell_type": "code",
   "execution_count": 2,
   "metadata": {},
   "outputs": [],
   "source": [
    "project = standalone_project()\n",
    "project.create()"
   ]
  },
  {
   "cell_type": "markdown",
   "metadata": {},
   "source": [
    "---------------------------------------------------------------\n",
    "---------------------------------------------------------------"
   ]
  },
  {
   "cell_type": "markdown",
   "metadata": {},
   "source": [
    "## **SYSTEM DESCRIPTION**\n",
    "-------------------------"
   ]
  },
  {
   "cell_type": "code",
   "execution_count": 3,
   "metadata": {},
   "outputs": [
    {
     "data": {
      "text/markdown": [
       "# DOUBLE PENDULUM\n",
       "\n",
       "**STANDALONE TOPOLOGY**\n",
       "\n",
       "------------------------------------------------\n",
       "\n",
       "### **Summary**\n",
       "\n",
       "A double pendulum is a pendulum with another pendulum attached to its end, and is a simple physical system that exhibits rich and chaotic dynamic behaviour with a strong sensitivity to initial conditions.\n",
       "\n",
       "More information can be found on [wikipedia](https://en.wikipedia.org/wiki/Double_pendulum).\n",
       "\n",
       "--------------------------------------\n",
       "\n",
       "### **Topology Layout**\n",
       "The mechanism consists of 2 Bodies + 1 Ground. Therefore, total system coordinates -including the ground- is $n=n_b\\times7 = 3\\times7 = 21$,  where $n_b$ is the total number of bodies. [^1]\n",
       "\n",
       "The list of bodies is given below:\n",
       "\n",
       "- Pendulum 1 $l_1$.\n",
       "- Pendulum 2 $l_2$.\n",
       "\n",
       "The system connectivity is as follows:\n",
       "\n",
       "<center>\n",
       "\n",
       "| Joint Name | Body i     | Body j     | Joint Type | $n_c$ |\n",
       "| :--------: | :--------- | :--------- | ---------- | ----- |\n",
       "|     a      | Ground     | Pendulum 1 | Revolute   | 5     |\n",
       "|     b      | Pendulum 1 | Pendulum 2 | Revolute   | 5     |\n",
       "\n",
       "</center>\n",
       "<br/>\n",
       "\n",
       "Hence, the total number of constraints equations is:\n",
       "$$ n_{c} = n_{c_j} + n_{c_p} + n_{c_g} = 10 + (3\\times 1) + 6 = 19 $$\n",
       "\n",
       "\n",
       "where:\n",
       "- $n_{c_j}$ is the joints constraints.\n",
       "- $n_{c_p}$ is the euler-parameters normalization constraints.\n",
       "- $n_{c_g}$ is the ground constraints.\n",
       "\n",
       "\n",
       "Therefore, the resulting **DOF** is: $ n - n_c = 21 - 19 = 2 $\n",
       "\n",
       "------------------------------------------------------\n",
       "<br/>\n",
       "\n",
       "[^1]: The tool uses [euler-parameters](https://en.wikibooks.org/wiki/Multibody_Mechanics/Euler_Parameters) -which is a 4D unit quaternion- to represents bodies orientation in space. This makes the generalized coordinates used to fully define a body in space to be **7,** instead of **6**, it also adds an algebraic equation to the constraints that ensures the unity/normalization of the body quaternion. This is an important remark as the calculations of the degrees-of-freedom depends on it.\n",
       "\n"
      ],
      "text/plain": [
       "<IPython.core.display.Markdown object>"
      ]
     },
     "metadata": {},
     "output_type": "display_data"
    }
   ],
   "source": [
    "from IPython.display import display, Markdown\n",
    "display(Markdown(filename='double_pendulum.md'))"
   ]
  },
  {
   "cell_type": "markdown",
   "metadata": {},
   "source": [
    "---------------------------------------------------------------\n",
    "---------------------------------------------------------------"
   ]
  },
  {
   "cell_type": "markdown",
   "metadata": {},
   "source": [
    "## **SYMBOLIC TOPOLOGY**\n",
    "------------------------"
   ]
  },
  {
   "cell_type": "markdown",
   "metadata": {},
   "source": [
    "In this section, we create the symbolic topology that captures the topological layout that we just discussed.</br>\n",
    "Defining the topology is very simple. We start by importing the ```standalone_topology``` class and create a new instance that represents our symbolic model. Then we start adding the components we discussed earlier, starting by the bodies, then the joints, actuators and forces, and thats it.</br>\n",
    "These components will be represented symbolically, and therefore there is no need for any numerical inputs at this step.\n",
    "\n",
    "The system is stored in a form of a network graph that stores all the data needed for the assemblage of the system equations later. But even before the assemblage process, we can gain helpful insights about our system as well be shown.\n"
   ]
  },
  {
   "cell_type": "code",
   "execution_count": 4,
   "metadata": {},
   "outputs": [],
   "source": [
    "from uraeus.smbd.systems import standalone_topology, configuration"
   ]
  },
  {
   "cell_type": "code",
   "execution_count": 5,
   "metadata": {},
   "outputs": [],
   "source": [
    "project_name = 'double_pendulum'"
   ]
  },
  {
   "cell_type": "code",
   "execution_count": 6,
   "metadata": {},
   "outputs": [],
   "source": [
    "sym_model = standalone_topology(project_name)"
   ]
  },
  {
   "cell_type": "markdown",
   "metadata": {},
   "source": [
    "### Adding Bodies"
   ]
  },
  {
   "cell_type": "code",
   "execution_count": 7,
   "metadata": {},
   "outputs": [],
   "source": [
    "sym_model.add_body('body_1')\n",
    "sym_model.add_body('body_2')"
   ]
  },
  {
   "cell_type": "markdown",
   "metadata": {},
   "source": [
    "### Adding Joints"
   ]
  },
  {
   "cell_type": "code",
   "execution_count": 8,
   "metadata": {},
   "outputs": [],
   "source": [
    "# Adding Joints\n",
    "sym_model.add_joint.revolute('a', 'ground', 'rbs_body_1')\n",
    "sym_model.add_joint.revolute('b', 'rbs_body_1', 'rbs_body_2')"
   ]
  },
  {
   "cell_type": "markdown",
   "metadata": {},
   "source": [
    "### Adding Actuators"
   ]
  },
  {
   "cell_type": "code",
   "execution_count": null,
   "metadata": {},
   "outputs": [],
   "source": [
    "#"
   ]
  },
  {
   "cell_type": "markdown",
   "metadata": {},
   "source": [
    "### Adding Forces"
   ]
  },
  {
   "cell_type": "code",
   "execution_count": null,
   "metadata": {},
   "outputs": [],
   "source": [
    "#"
   ]
  },
  {
   "cell_type": "markdown",
   "metadata": {
    "colab_type": "text",
    "id": "goKtOBuLd1Kh"
   },
   "source": [
    "### **SYMBOLIC CHARACTERISTICS**"
   ]
  },
  {
   "cell_type": "markdown",
   "metadata": {},
   "source": [
    "#### Topology Graph\n",
    "Visualizing the connectivity of the system as a network graph, where the nodes represent the bodies, and the edges represent the joints, forces and/or actuators between the bodies."
   ]
  },
  {
   "cell_type": "code",
   "execution_count": 9,
   "metadata": {},
   "outputs": [
    {
     "data": {
      "image/png": "[encoded data removed]",
      "text/plain": [
       "<Figure size 720x432 with 1 Axes>"
      ]
     },
     "metadata": {},
     "output_type": "display_data"
    }
   ],
   "source": [
    "sym_model.topology.draw_constraints_topology()"
   ]
  },
  {
   "cell_type": "markdown",
   "metadata": {},
   "source": [
    "Checking the system's number of generalized coordinates $n$ and number of constraints $n_c$."
   ]
  },
  {
   "cell_type": "code",
   "execution_count": 10,
   "metadata": {},
   "outputs": [
    {
     "data": {
      "text/latex": [
       "$\\displaystyle \\left( 21, \\  19\\right)$"
      ],
      "text/plain": [
       "(21, 19)"
      ]
     },
     "execution_count": 10,
     "metadata": {},
     "output_type": "execute_result"
    }
   ],
   "source": [
    "sym_model.topology.n, sym_model.topology.nc "
   ]
  },
  {
   "cell_type": "markdown",
   "metadata": {},
   "source": [
    "### **ASSEMBLING**"
   ]
  },
  {
   "cell_type": "markdown",
   "metadata": {},
   "source": [
    "This is the last step of the symbolic building process, where we make the system starts the assemblage process of the governing equations, which will be used then in the code generation for the numerical simulation, and also can be used for further symbolic manipulations.</br>\n",
    "\n",
    "*Note: The equations' notations will be discussed in the tool documentation files.*"
   ]
  },
  {
   "cell_type": "code",
   "execution_count": 11,
   "metadata": {},
   "outputs": [],
   "source": [
    "sym_model.assemble()"
   ]
  },
  {
   "cell_type": "code",
   "execution_count": 12,
   "metadata": {},
   "outputs": [],
   "source": [
    "sym_model.save('symenv')"
   ]
  },
  {
   "cell_type": "markdown",
   "metadata": {},
   "source": [
    "#### Checking the System Equations"
   ]
  },
  {
   "cell_type": "code",
   "execution_count": 13,
   "metadata": {},
   "outputs": [
    {
     "data": {
      "text/latex": [
       "$\\displaystyle \\left[\\begin{matrix}{A({P_{ground}})} {\\bar{u}^{ground}_{jcs_a}} - {A({P_{rbs_body_1}})} {\\bar{u}^{rbs_body_1}_{jcs_a}} + {R_{ground}} - {R_{rbs_body_1}}\\\\\\left({\\hat{i}_{{\\bar{M}^{ground}_{jcs_a}}}}\\right)^{T} \\left({A({P_{ground}})}\\right)^{T} {A({P_{rbs_body_1}})} {\\hat{k}_{{\\bar{M}^{rbs_body_1}_{jcs_a}}}}\\\\\\left({\\hat{j}_{{\\bar{M}^{ground}_{jcs_a}}}}\\right)^{T} \\left({A({P_{ground}})}\\right)^{T} {A({P_{rbs_body_1}})} {\\hat{k}_{{\\bar{M}^{rbs_body_1}_{jcs_a}}}}\\\\{A({P_{rbs_body_1}})} {\\bar{u}^{rbs_body_1}_{jcs_b}} - {A({P_{rbs_body_2}})} {\\bar{u}^{rbs_body_2}_{jcs_b}} + {R_{rbs_body_1}} - {R_{rbs_body_2}}\\\\\\left({\\hat{i}_{{\\bar{M}^{rbs_body_1}_{jcs_b}}}}\\right)^{T} \\left({A({P_{rbs_body_1}})}\\right)^{T} {A({P_{rbs_body_2}})} {\\hat{k}_{{\\bar{M}^{rbs_body_2}_{jcs_b}}}}\\\\\\left({\\hat{j}_{{\\bar{M}^{rbs_body_1}_{jcs_b}}}}\\right)^{T} \\left({A({P_{rbs_body_1}})}\\right)^{T} {A({P_{rbs_body_2}})} {\\hat{k}_{{\\bar{M}^{rbs_body_2}_{jcs_b}}}}\\\\{R_{ground}}\\\\{P_{ground}} - {Pg_{ground}}\\\\- \\mathbb{I} + {P_{rbs_body_1}}^{T} {P_{rbs_body_1}}\\\\- \\mathbb{I} + {P_{rbs_body_2}}^{T} {P_{rbs_body_2}}\\end{matrix}\\right]$"
      ],
      "text/plain": [
       "Matrix([\n",
       "[            A({P_{ground}})*{\\bar{u}^{ground}_{jcs_a}} - A({P_{rbs_body_1}})*{\\bar{u}^{rbs_body_1}_{jcs_a}} + {R_{ground}} - {R_{rbs_body_1}}],\n",
       "[                                          Mbar_ground_jcs_a[:,(0, 1)].T*A({P_{ground}}).T*A({P_{rbs_body_1}})*Mbar_rbs_body_1_jcs_a[:,(2, 3)]],\n",
       "[                                          Mbar_ground_jcs_a[:,(1, 2)].T*A({P_{ground}}).T*A({P_{rbs_body_1}})*Mbar_rbs_body_1_jcs_a[:,(2, 3)]],\n",
       "[A({P_{rbs_body_1}})*{\\bar{u}^{rbs_body_1}_{jcs_b}} - A({P_{rbs_body_2}})*{\\bar{u}^{rbs_body_2}_{jcs_b}} + {R_{rbs_body_1}} - {R_{rbs_body_2}}],\n",
       "[                                  Mbar_rbs_body_1_jcs_b[:,(0, 1)].T*A({P_{rbs_body_1}}).T*A({P_{rbs_body_2}})*Mbar_rbs_body_2_jcs_b[:,(2, 3)]],\n",
       "[                                  Mbar_rbs_body_1_jcs_b[:,(1, 2)].T*A({P_{rbs_body_1}}).T*A({P_{rbs_body_2}})*Mbar_rbs_body_2_jcs_b[:,(2, 3)]],\n",
       "[                                                                                                                                 {R_{ground}}],\n",
       "[                                                                                                                 {P_{ground}} - {Pg_{ground}}],\n",
       "[                                                                                                     -I + {P_{rbs_body_1}}.T*{P_{rbs_body_1}}],\n",
       "[                                                                                                     -I + {P_{rbs_body_2}}.T*{P_{rbs_body_2}}]])"
      ]
     },
     "execution_count": 13,
     "metadata": {},
     "output_type": "execute_result"
    }
   ],
   "source": [
    "sym_model.topology.pos_equations"
   ]
  },
  {
   "cell_type": "markdown",
   "metadata": {},
   "source": [
    "---------------------------------------------------------------\n",
    "---------------------------------------------------------------"
   ]
  },
  {
   "cell_type": "markdown",
   "metadata": {},
   "source": [
    "## **SYSTEM CONFIGURATION**\n",
    "---------------------------"
   ]
  },
  {
   "cell_type": "markdown",
   "metadata": {},
   "source": [
    "In this step we define a symbolic configuration of our symbolic topology. As you may have noticed in the symbolic topology building step, we only cared about the **_topology_**, thats is the system bodies and their connectivity, and we did not care explicitly with how these components are configured in space.</br>\n",
    "\n",
    "In order to create a valid numerical simulation session, we have to provide the system with its numerical configuration needed, for example, the joints' locations and orientations. The symbolic topology in its raw form will require you to manually enter all these numerical arguments, which can be cumbersome even for smaller systems. This can be checked by checking the configuration inputs of the symbolic configuration as ```sym_config.config.input_nodes```\n",
    "\n",
    "Here we start by stating the symbolic inputs we wish to use instead of the default inputs set, and then we define the relation between these newly defined arguments and the original ones. \n",
    "\n",
    "**_The details of this process will be provided in the documentation._**"
   ]
  },
  {
   "cell_type": "code",
   "execution_count": 14,
   "metadata": {},
   "outputs": [],
   "source": [
    "# Symbolic configuration name.\n",
    "config_name = '%s_cfg'%project_name\n",
    "\n",
    "# Symbolic configuration instance.\n",
    "sym_config = configuration(config_name, sym_model)"
   ]
  },
  {
   "cell_type": "code",
   "execution_count": 15,
   "metadata": {},
   "outputs": [
    {
     "data": {
      "text/plain": [
       "['ax1_jcs_a',\n",
       " 'pt1_jcs_a',\n",
       " 'ax1_jcs_b',\n",
       " 'pt1_jcs_b',\n",
       " 'R_rbs_body_1',\n",
       " 'P_rbs_body_1',\n",
       " 'Rd_rbs_body_1',\n",
       " 'Pd_rbs_body_1',\n",
       " 'Rdd_rbs_body_1',\n",
       " 'Pdd_rbs_body_1',\n",
       " 'm_rbs_body_1',\n",
       " 'Jbar_rbs_body_1',\n",
       " 'R_rbs_body_2',\n",
       " 'P_rbs_body_2',\n",
       " 'Rd_rbs_body_2',\n",
       " 'Pd_rbs_body_2',\n",
       " 'Rdd_rbs_body_2',\n",
       " 'Pdd_rbs_body_2',\n",
       " 'm_rbs_body_2',\n",
       " 'Jbar_rbs_body_2']"
      ]
     },
     "execution_count": 15,
     "metadata": {},
     "output_type": "execute_result"
    }
   ],
   "source": [
    "sym_config.config.input_nodes"
   ]
  },
  {
   "cell_type": "markdown",
   "metadata": {},
   "source": [
    "### CONFIGURATION INPUTS"
   ]
  },
  {
   "cell_type": "code",
   "execution_count": 16,
   "metadata": {},
   "outputs": [],
   "source": [
    "# Adding UserInputs\n",
    "# =================\n",
    "sym_config.add_point.UserInput('p1')\n",
    "sym_config.add_point.UserInput('p2')\n",
    "sym_config.add_point.UserInput('p3')\n",
    "\n",
    "sym_config.add_vector.UserInput('v')"
   ]
  },
  {
   "cell_type": "markdown",
   "metadata": {},
   "source": [
    "### CONFIGURATION RELATIONS"
   ]
  },
  {
   "cell_type": "code",
   "execution_count": 17,
   "metadata": {},
   "outputs": [],
   "source": [
    "# Defining Relations\n",
    "# ==================\n",
    "sym_config.add_relation.Equal_to('pt1_jcs_a', ('hps_p1',))\n",
    "sym_config.add_relation.Equal_to('ax1_jcs_a', ('vcs_v',))\n",
    "\n",
    "sym_config.add_relation.Equal_to('pt1_jcs_b', ('hps_p2',))\n",
    "sym_config.add_relation.Equal_to('ax1_jcs_b', ('vcs_v',))"
   ]
  },
  {
   "cell_type": "markdown",
   "metadata": {},
   "source": [
    "### GEOMETRIES"
   ]
  },
  {
   "cell_type": "markdown",
   "metadata": {},
   "source": [
    "Here we start defining basic geometric shapes that can represents the shapes of the bodies in our system. This serves two points:\n",
    "- Visualization and Animation in blender.\n",
    "- Evaluating the bodies inertia properties from these basic geometries instead of explicit definition."
   ]
  },
  {
   "cell_type": "code",
   "execution_count": 18,
   "metadata": {},
   "outputs": [],
   "source": [
    "# Creating Geometries\n",
    "# ===================\n",
    "sym_config.add_scalar.UserInput('radius')\n",
    "\n",
    "sym_config.add_geometry.Sphere_Geometry('body_1', ('hps_p2', 's_radius'))\n",
    "sym_config.assign_geometry_to_body('rbs_body_1', 'gms_body_1')\n",
    "\n",
    "sym_config.add_geometry.Sphere_Geometry('body_2', ('hps_p3', 's_radius'))\n",
    "sym_config.assign_geometry_to_body('rbs_body_2', 'gms_body_2')"
   ]
  },
  {
   "cell_type": "markdown",
   "metadata": {},
   "source": [
    "Now lets check the current ```input_nodes```."
   ]
  },
  {
   "cell_type": "code",
   "execution_count": 19,
   "metadata": {},
   "outputs": [
    {
     "data": {
      "text/plain": [
       "['Rd_rbs_body_1',\n",
       " 'Pd_rbs_body_1',\n",
       " 'Rdd_rbs_body_1',\n",
       " 'Pdd_rbs_body_1',\n",
       " 'Rd_rbs_body_2',\n",
       " 'Pd_rbs_body_2',\n",
       " 'Rdd_rbs_body_2',\n",
       " 'Pdd_rbs_body_2',\n",
       " 'hps_p1',\n",
       " 'hps_p2',\n",
       " 'hps_p3',\n",
       " 'vcs_v',\n",
       " 's_radius']"
      ]
     },
     "execution_count": 19,
     "metadata": {},
     "output_type": "execute_result"
    }
   ],
   "source": [
    "sym_config.config.input_nodes"
   ]
  },
  {
   "cell_type": "markdown",
   "metadata": {},
   "source": [
    "Exporting configuration into a JSON file"
   ]
  },
  {
   "cell_type": "code",
   "execution_count": 20,
   "metadata": {},
   "outputs": [],
   "source": [
    "sym_config.export_JSON_file('symenv')"
   ]
  },
  {
   "cell_type": "markdown",
   "metadata": {},
   "source": [
    "---------------------------------------------------------------\n",
    "---------------------------------------------------------------"
   ]
  },
  {
   "cell_type": "code",
   "execution_count": null,
   "metadata": {},
   "outputs": [],
   "source": []
  }
 ],
 "metadata": {
  "kernelspec": {
   "display_name": "uraeus",
   "language": "python",
   "name": "uraeus"
  },
  "language_info": {
   "codemirror_mode": {
    "name": "ipython",
    "version": 3
   },
   "file_extension": ".py",
   "mimetype": "text/x-python",
   "name": "python",
   "nbconvert_exporter": "python",
   "pygments_lexer": "ipython3",
   "version": "3.7.3"
  }
 },
 "nbformat": 4,
 "nbformat_minor": 4
}
